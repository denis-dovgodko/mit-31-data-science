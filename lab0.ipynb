{
 "cells": [
  {
   "cell_type": "code",
   "execution_count": 7,
   "metadata": {},
   "outputs": [
    {
     "name": "stdout",
     "output_type": "stream",
     "text": [
      "Hello, fg\n"
     ]
    }
   ],
   "source": [
    "userName = str(input(\"Please, enter your name: \"))\n",
    "print(f'Hello, {userName}')"
   ]
  },
  {
   "cell_type": "markdown",
   "metadata": {},
   "source": [
    "Code for user greetments "
   ]
  },
  {
   "cell_type": "code",
   "execution_count": 9,
   "metadata": {},
   "outputs": [
    {
     "name": "stdout",
     "output_type": "stream",
     "text": [
      "Average array value: 0.3317622250220754\n"
     ]
    }
   ],
   "source": [
    "import numpy as np\n",
    "\n",
    "randomArray = np.random.random(10)\n",
    "print(\"Average array value:\", np.mean(randomArray))"
   ]
  },
  {
   "cell_type": "markdown",
   "metadata": {},
   "source": [
    "Code that outputs average value for array with random values and size 10"
   ]
  }
 ],
 "metadata": {
  "kernelspec": {
   "display_name": "lab0",
   "language": "python",
   "name": "python3"
  },
  "language_info": {
   "codemirror_mode": {
    "name": "ipython",
    "version": 3
   },
   "file_extension": ".py",
   "mimetype": "text/x-python",
   "name": "python",
   "nbconvert_exporter": "python",
   "pygments_lexer": "ipython3",
   "version": "3.12.3"
  }
 },
 "nbformat": 4,
 "nbformat_minor": 2
}
